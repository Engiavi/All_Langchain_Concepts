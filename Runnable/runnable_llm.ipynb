{
 "cells": [
  {
   "cell_type": "code",
   "execution_count": 4,
   "metadata": {},
   "outputs": [],
   "source": [
    "\n",
    "import random\n",
    "from abc import ABC, abstractmethod"
   ]
  },
  {
   "cell_type": "markdown",
   "metadata": {},
   "source": [
    "the goal of this file is to how we convert the chains, promptTemplate and llm functionality to execute the Runnable methods and functionality\n",
    "\n",
    "goal:-\n",
    "convert the given class and object into Runnable\n",
    "standarise the chains functionality\n",
    "all runnable functions must have common methods like invoke\n",
    "\n",
    "Approach:-\n",
    "we have to use abstraction(oops) to deal with above functionality. abstract class ->Runnable\n",
    "then all the class inherit from this abstract class. Thereafter all the class, which was inherited becomes runnable\n",
    "\n"
   ]
  },
  {
   "cell_type": "code",
   "execution_count": 6,
   "metadata": {},
   "outputs": [],
   "source": [
    "class Runnable(ABC):\n",
    "    @abstractmethod\n",
    "    def invoke(input_data):\n",
    "        pass\n"
   ]
  },
  {
   "cell_type": "code",
   "execution_count": 9,
   "metadata": {},
   "outputs": [],
   "source": [
    "class BasicLLM(Runnable): #dummy LLM Class, that works same as llm\n",
    "    def __init__(self):\n",
    "        print(\"LLM created\")\n",
    "    def invoke(self, prompt):\n",
    "        response_list = [\n",
    "            'Delhi is the capital of India',\n",
    "            'IPL is cricket league',\n",
    "            \"AI stands for Artificial Intelligence\",\n",
    "        ]\n",
    "        return {'response':random.choice(response_list)}\n",
    "        \n",
    "    def predict(self,prompt):\n",
    "        response_list = [\n",
    "            'Delhi is the capital of India',\n",
    "            'IPL is cricket league',\n",
    "            \"AI stands for Artificial Intelligence\",\n",
    "        ]\n",
    "        return {'response':random.choice(response_list)}"
   ]
  },
  {
   "cell_type": "code",
   "execution_count": 10,
   "metadata": {},
   "outputs": [
    {
     "name": "stdout",
     "output_type": "stream",
     "text": [
      "LLM created\n"
     ]
    }
   ],
   "source": [
    "llm = BasicLLM()"
   ]
  },
  {
   "cell_type": "code",
   "execution_count": 11,
   "metadata": {},
   "outputs": [],
   "source": [
    "class BasicPromptTemplate(Runnable):\n",
    "    def __init__(self, template,input_variables):\n",
    "        self.template = template\n",
    "        self.input_variables = input_variables\n",
    "    def invoke(self, input_dict):\n",
    "        return self.template.format(**input_dict)\n",
    "    def Format(self,input_dict):\n",
    "        return self.template.format(**input_dict)"
   ]
  },
  {
   "cell_type": "code",
   "execution_count": 12,
   "metadata": {},
   "outputs": [],
   "source": [
    "class RunnableConnector(Runnable):\n",
    "    def __init(self,runnable_list):\n",
    "        self.runnable_list = runnable_list\n",
    "    def invoke(self, input_data):\n",
    "        for runnable in self.runnable_list:\n",
    "            input_data = runnable.invoke(input_data)\n",
    "        return input_data"
   ]
  },
  {
   "cell_type": "code",
   "execution_count": 13,
   "metadata": {},
   "outputs": [],
   "source": [
    "template = BasicPromptTemplate(\n",
    "    template=\"What is the capital of {country}?\",\n",
    "    input_variables=[\"country\"]\n",
    ")"
   ]
  },
  {
   "cell_type": "code",
   "execution_count": 14,
   "metadata": {},
   "outputs": [
    {
     "ename": "TypeError",
     "evalue": "RunnableConnector() takes no arguments",
     "output_type": "error",
     "traceback": [
      "\u001b[1;31m---------------------------------------------------------------------------\u001b[0m",
      "\u001b[1;31mTypeError\u001b[0m                                 Traceback (most recent call last)",
      "Cell \u001b[1;32mIn[14], line 1\u001b[0m\n\u001b[1;32m----> 1\u001b[0m chain \u001b[38;5;241m=\u001b[39m RunnableConnector([template,llm])\n\u001b[0;32m      2\u001b[0m chain\u001b[38;5;241m.\u001b[39minvoke({\u001b[38;5;124m\"\u001b[39m\u001b[38;5;124mcountry\u001b[39m\u001b[38;5;124m\"\u001b[39m:\u001b[38;5;124m\"\u001b[39m\u001b[38;5;124mIndia\u001b[39m\u001b[38;5;124m\"\u001b[39m,})\n",
      "\u001b[1;31mTypeError\u001b[0m: RunnableConnector() takes no arguments"
     ]
    }
   ],
   "source": [
    "chain = RunnableConnector([template,llm])\n",
    "chain.invoke({\"country\":\"India\",})"
   ]
  },
  {
   "cell_type": "code",
   "execution_count": null,
   "metadata": {},
   "outputs": [],
   "source": []
  }
 ],
 "metadata": {
  "kernelspec": {
   "display_name": "base",
   "language": "python",
   "name": "python3"
  },
  "language_info": {
   "codemirror_mode": {
    "name": "ipython",
    "version": 3
   },
   "file_extension": ".py",
   "mimetype": "text/x-python",
   "name": "python",
   "nbconvert_exporter": "python",
   "pygments_lexer": "ipython3",
   "version": "3.12.4"
  }
 },
 "nbformat": 4,
 "nbformat_minor": 2
}
